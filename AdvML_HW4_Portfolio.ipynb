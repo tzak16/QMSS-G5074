{
  "nbformat": 4,
  "nbformat_minor": 0,
  "metadata": {
    "colab": {
      "provenance": []
    },
    "kernelspec": {
      "name": "python3",
      "display_name": "Python 3"
    },
    "language_info": {
      "name": "python"
    }
  },
  "cells": [
    {
      "cell_type": "markdown",
      "source": [
        "# Takuro Sazaki (ts3422)\n",
        "https://github.com/tzak16/QMSS-G5074.git"
      ],
      "metadata": {
        "id": "cSiMV2DoGrcV"
      }
    },
    {
      "cell_type": "markdown",
      "source": [
        "# Project #1\n",
        "<br/> https://github.com/tzak16/QMSS-G5074/blob/951b131e77bbdb8ff048d5dd9d79b966d4355ee2/AdvML_HW1.ipynb"
      ],
      "metadata": {
        "id": "GtIHj8dFwI-q"
      }
    },
    {
      "cell_type": "markdown",
      "source": [
        "## (1) Dataset"
      ],
      "metadata": {
        "id": "qDfPkm9BwJCA"
      }
    },
    {
      "cell_type": "markdown",
      "source": [
        "\n",
        "\n",
        "*   World Happiness Indicator\n",
        "*   Dataset from the World Happiness Report\n",
        "*   The dataset for competition includes 7 numerical variables and 4 categorical variables as X\n",
        "*   y is a categorical variable about how people feel their happiness. It ranges from \"Very Low\", \"Low\", \"Average\", \"High\", and \"Very High\".\n",
        "*   A number of missing values in the dataset, thus replacing those missing values is crucial.\n",
        "\n",
        "\n",
        "\n"
      ],
      "metadata": {
        "id": "2CEAqRMYy-jO"
      }
    },
    {
      "cell_type": "markdown",
      "source": [
        "## (2) Predictive models"
      ],
      "metadata": {
        "id": "MWnaHqxJwJFp"
      }
    },
    {
      "cell_type": "markdown",
      "source": [
        "Apply three predictive models\n",
        "\n",
        "\n",
        "\n",
        "1.   Random forests\n",
        "\n",
        "*   Apply grid search to obtain the best parameter for n_estimators. It returned n_estimators = 181 with CV score of 0.659.\n",
        "\n",
        "2.   Neural network\n",
        "\n",
        "*   Use four Dense layers with 128 units and relu activation.\n",
        "*   Set 300 epochs and sgd optimizer.\n",
        "\n",
        "3.   Support vector machine\n",
        "\n",
        "*   Apply grid searched to obtain the best parameter for gamma. It returned gamma = 0.00019.\n",
        "*   The performance was the best among the three models.\n"
      ],
      "metadata": {
        "id": "6hXQLi2xzGf3"
      }
    },
    {
      "cell_type": "markdown",
      "source": [
        "## (3) Comparison with other models"
      ],
      "metadata": {
        "id": "tdTOEWbYwJIP"
      }
    },
    {
      "cell_type": "markdown",
      "source": [
        "\n",
        "\n",
        "*   Best models on the leaders board were Gradient Boosting Classifier or Random Forest Classifier.\n",
        "*   The performance of neural network models were relatively low in this project.\n",
        "\n"
      ],
      "metadata": {
        "id": "kbHiX75dzHOv"
      }
    },
    {
      "cell_type": "markdown",
      "source": [
        "## (4) Salient details"
      ],
      "metadata": {
        "id": "2g7azSjgwJLG"
      }
    },
    {
      "cell_type": "markdown",
      "source": [
        "The key for this project was actually widening the dataset, adding more variables from outside the dataset."
      ],
      "metadata": {
        "id": "NqGW29BEzH20"
      }
    },
    {
      "cell_type": "markdown",
      "source": [
        "# Project #2\n",
        "<br/> \n",
        "https://github.com/tzak16/QMSS-G5074/blob/13215a324d3479c83db5bd17a3b23f66ad2cae98/AdvML_HW2.ipynb"
      ],
      "metadata": {
        "id": "kOUwssxLwJNO"
      }
    },
    {
      "cell_type": "markdown",
      "source": [
        "## (1) Dataset"
      ],
      "metadata": {
        "id": "Oh0K8PRSwJPi"
      }
    },
    {
      "cell_type": "markdown",
      "source": [
        "\n",
        "*   Covid-19 radiography dataset\n",
        "*   Image data\n",
        "*   Use first 1345 images for this project\n",
        "*   Reduced the dimension to (192, 192, 3) by resizing the image data.\n",
        "*   y is a categorical variable with \"COVID\", \"NORMAL\", and \"PNEUMONIA\"."
      ],
      "metadata": {
        "id": "AY8odtIVzIui"
      }
    },
    {
      "cell_type": "markdown",
      "source": [
        "## (2) Predictive models"
      ],
      "metadata": {
        "id": "H1rd9ga4ylbL"
      }
    },
    {
      "cell_type": "markdown",
      "source": [
        "Apply four predictive models\n",
        "\n",
        "\n",
        "\n",
        "1.   Convolutional Neural Network of Keras Sequential\n",
        "\n",
        "*   Conv2D/Conv2D/MaxPooling2D * five times\n",
        "*   adam optimizer\n",
        "*   one epoch\n",
        "*   3,811,619 trainable parameters\n",
        "\n",
        "2.   Convolutional Neural Network of Functional API\n",
        "\n",
        "*   Conv2D/Conv2D/MaxPooling2D * two times\n",
        "*   adam optimizer\n",
        "*   one epoch\n",
        "*   180,435 trainable parameters\n",
        "\n",
        "3.   Ensemble Model\n",
        "\n",
        "*   Build three Keral Sequential convolutional neural network\n",
        "*   Use the average of the three models as the prediction\n",
        "\n",
        "4.   Train with augmented data\n",
        "\n",
        "*   Generate augmented data by rescaling, rotating, shifting width and height, flipping horizontally, and zooming images.\n",
        "*   Run Convolutional Neural Network of Keras Sequential"
      ],
      "metadata": {
        "id": "YrbbQGC9zJdc"
      }
    },
    {
      "cell_type": "markdown",
      "source": [
        "## (3) Comparison with other models"
      ],
      "metadata": {
        "id": "TP_OiPh3ylYi"
      }
    },
    {
      "cell_type": "markdown",
      "source": [
        "\n",
        "\n",
        "*   The best models uses transfer learning.\n",
        "*   Training the model with augmented data did not necessarily result in good predictions.\n",
        "*   The best models uses relatively small number of layers."
      ],
      "metadata": {
        "id": "7KkuWRKuzJ8s"
      }
    },
    {
      "cell_type": "markdown",
      "source": [
        "## (4) Salient details"
      ],
      "metadata": {
        "id": "FW_ak1IGylWL"
      }
    },
    {
      "cell_type": "markdown",
      "source": [
        "Transfer learning is a powerful tool to improve the model's performance. Learning with too much augmented data is not always helpful. We should consider the good degree of randomization in generating the training dataset."
      ],
      "metadata": {
        "id": "JWRJ6p4YzKdy"
      }
    },
    {
      "cell_type": "markdown",
      "source": [
        "# Project #3\n",
        "<br/> \n",
        "https://github.com/tzak16/QMSS-G5074/blob/13215a324d3479c83db5bd17a3b23f66ad2cae98/AdvML_HW3.ipynb"
      ],
      "metadata": {
        "id": "S4_pgr5vylT3"
      }
    },
    {
      "cell_type": "markdown",
      "source": [
        "## (1) Dataset"
      ],
      "metadata": {
        "id": "pC7sD6bFylRz"
      }
    },
    {
      "cell_type": "markdown",
      "source": [
        "*   Stanford Sentiment Treebank\n",
        "*   Text data\n",
        "*   This dataset consists of 50,000 movie reviews.\n",
        "*   y is a binary variable, either \"Positive\" or \"Negative\""
      ],
      "metadata": {
        "id": "tzP_BxNEzLQP"
      }
    },
    {
      "cell_type": "markdown",
      "source": [
        "## (2) Predictive models"
      ],
      "metadata": {
        "id": "Q1t0yezdy3uj"
      }
    },
    {
      "cell_type": "markdown",
      "source": [
        "Apply four predictive models\n",
        "\n",
        "\n",
        "\n",
        "1.  Embedding layer and LSTM layers\n",
        "\n",
        "*   Four LSTM layers\n",
        "*   rmsprop optimizer\n",
        "*   10 epochs\n",
        "\n",
        "2.  Embedding layer and Conv1D layers\n",
        "\n",
        "*   Conv1D/Conv1D/MaxPooling1D * two times\n",
        "*   rmsprop optimizer\n",
        "*   10 epochs\n",
        "\n",
        "3.  Transfer Learning with glove embeddings\n",
        "\n",
        "*   Use the pre-learned glove embeddings\n",
        "*   The base model is one with Conv1D layers\n",
        "\n",
        "4.  Keras tuner to obtain the best number of filters\n",
        "\n",
        "*   Apply Keras tuner to a model with three Conv1D layers and one GlobalMaxPooling layer.\n",
        "*   Use the best number of filters\n",
        "*   Use the pre-learned glove embeddings"
      ],
      "metadata": {
        "id": "DaHuith8zMio"
      }
    },
    {
      "cell_type": "markdown",
      "source": [
        "## (3) Comparison with other models"
      ],
      "metadata": {
        "id": "KsQrQARWy3Mq"
      }
    },
    {
      "cell_type": "markdown",
      "source": [
        "*   Transfer learning deteriorated the performance in this case.\n",
        "*   The performance of models with LSTM layers looked better than ones with Conv1D layers.\n",
        "*   Good models used GlobalAveragePooling rather than GlobalMaxPooling."
      ],
      "metadata": {
        "id": "F8QBkRqOzMyQ"
      }
    },
    {
      "cell_type": "markdown",
      "source": [
        "## (4) Salient details"
      ],
      "metadata": {
        "id": "vRrJtJkry3Jo"
      }
    },
    {
      "cell_type": "markdown",
      "source": [
        "Increasing the number of epochs generally improved the performance. Removing dropout improved the performance to some degree. Transfer learning with the glove embeddings did not necessarily generate better results."
      ],
      "metadata": {
        "id": "9YjwyojrzOTS"
      }
    }
  ]
}